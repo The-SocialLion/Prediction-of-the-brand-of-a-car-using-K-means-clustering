{
  "nbformat": 4,
  "nbformat_minor": 0,
  "metadata": {
    "colab": {
      "name": "Untitled48.ipynb",
      "provenance": []
    },
    "kernelspec": {
      "name": "python3",
      "display_name": "Python 3"
    }
  },
  "cells": [
    {
      "cell_type": "code",
      "metadata": {
        "id": "xTZ2zSdNnyD8"
      },
      "source": [
        "import numpy as np\n",
        "import pandas as pd\n",
        "import matplotlib.pyplot as plt\n",
        "import random as rd"
      ],
      "execution_count": 1,
      "outputs": []
    },
    {
      "cell_type": "code",
      "metadata": {
        "id": "6Ib208Z9oykW"
      },
      "source": [
        "k_map={\n",
        "    ' US.':1,\n",
        "    ' Europe.':2,\n",
        "    ' Japan.':3\n",
        "}"
      ],
      "execution_count": 10,
      "outputs": []
    },
    {
      "cell_type": "code",
      "metadata": {
        "colab": {
          "base_uri": "https://localhost:8080/",
          "height": 419
        },
        "id": "NrSs-MJ3oZud",
        "outputId": "798b203d-302c-47a1-a1ab-e995103a07f6"
      },
      "source": [
        "df=pd.read_csv('cars.csv')\n",
        "df['category']=df[' brand'].map(k_map)\n",
        "df=df.drop(columns=[' brand'])\n",
        "df=df.dropna(how='any')\n",
        "df[' cubicinches']=df[' cubicinches'].replace([' '],rd.randint(100,450))\n",
        "df[' cubicinches']=df[' cubicinches'].astype(int)\n",
        "df[' weightlbs']=df[' weightlbs'].replace([' '],rd.randint(1900,4500))\n",
        "df[' weightlbs']=df[' weightlbs'].astype(int)\n",
        "display(df)"
      ],
      "execution_count": 28,
      "outputs": [
        {
          "output_type": "display_data",
          "data": {
            "text/html": [
              "<div>\n",
              "<style scoped>\n",
              "    .dataframe tbody tr th:only-of-type {\n",
              "        vertical-align: middle;\n",
              "    }\n",
              "\n",
              "    .dataframe tbody tr th {\n",
              "        vertical-align: top;\n",
              "    }\n",
              "\n",
              "    .dataframe thead th {\n",
              "        text-align: right;\n",
              "    }\n",
              "</style>\n",
              "<table border=\"1\" class=\"dataframe\">\n",
              "  <thead>\n",
              "    <tr style=\"text-align: right;\">\n",
              "      <th></th>\n",
              "      <th>mpg</th>\n",
              "      <th>cylinders</th>\n",
              "      <th>cubicinches</th>\n",
              "      <th>hp</th>\n",
              "      <th>weightlbs</th>\n",
              "      <th>time-to-60</th>\n",
              "      <th>year</th>\n",
              "      <th>category</th>\n",
              "    </tr>\n",
              "  </thead>\n",
              "  <tbody>\n",
              "    <tr>\n",
              "      <th>0</th>\n",
              "      <td>14.0</td>\n",
              "      <td>8</td>\n",
              "      <td>350</td>\n",
              "      <td>165</td>\n",
              "      <td>4209</td>\n",
              "      <td>12</td>\n",
              "      <td>1972</td>\n",
              "      <td>1</td>\n",
              "    </tr>\n",
              "    <tr>\n",
              "      <th>1</th>\n",
              "      <td>31.9</td>\n",
              "      <td>4</td>\n",
              "      <td>89</td>\n",
              "      <td>71</td>\n",
              "      <td>1925</td>\n",
              "      <td>14</td>\n",
              "      <td>1980</td>\n",
              "      <td>2</td>\n",
              "    </tr>\n",
              "    <tr>\n",
              "      <th>2</th>\n",
              "      <td>17.0</td>\n",
              "      <td>8</td>\n",
              "      <td>302</td>\n",
              "      <td>140</td>\n",
              "      <td>3449</td>\n",
              "      <td>11</td>\n",
              "      <td>1971</td>\n",
              "      <td>1</td>\n",
              "    </tr>\n",
              "    <tr>\n",
              "      <th>3</th>\n",
              "      <td>15.0</td>\n",
              "      <td>8</td>\n",
              "      <td>400</td>\n",
              "      <td>150</td>\n",
              "      <td>3761</td>\n",
              "      <td>10</td>\n",
              "      <td>1971</td>\n",
              "      <td>1</td>\n",
              "    </tr>\n",
              "    <tr>\n",
              "      <th>4</th>\n",
              "      <td>30.5</td>\n",
              "      <td>4</td>\n",
              "      <td>98</td>\n",
              "      <td>63</td>\n",
              "      <td>2051</td>\n",
              "      <td>17</td>\n",
              "      <td>1978</td>\n",
              "      <td>1</td>\n",
              "    </tr>\n",
              "    <tr>\n",
              "      <th>...</th>\n",
              "      <td>...</td>\n",
              "      <td>...</td>\n",
              "      <td>...</td>\n",
              "      <td>...</td>\n",
              "      <td>...</td>\n",
              "      <td>...</td>\n",
              "      <td>...</td>\n",
              "      <td>...</td>\n",
              "    </tr>\n",
              "    <tr>\n",
              "      <th>256</th>\n",
              "      <td>17.0</td>\n",
              "      <td>8</td>\n",
              "      <td>305</td>\n",
              "      <td>130</td>\n",
              "      <td>3840</td>\n",
              "      <td>15</td>\n",
              "      <td>1980</td>\n",
              "      <td>1</td>\n",
              "    </tr>\n",
              "    <tr>\n",
              "      <th>257</th>\n",
              "      <td>36.1</td>\n",
              "      <td>4</td>\n",
              "      <td>91</td>\n",
              "      <td>60</td>\n",
              "      <td>1800</td>\n",
              "      <td>16</td>\n",
              "      <td>1979</td>\n",
              "      <td>3</td>\n",
              "    </tr>\n",
              "    <tr>\n",
              "      <th>258</th>\n",
              "      <td>22.0</td>\n",
              "      <td>6</td>\n",
              "      <td>232</td>\n",
              "      <td>112</td>\n",
              "      <td>2835</td>\n",
              "      <td>15</td>\n",
              "      <td>1983</td>\n",
              "      <td>1</td>\n",
              "    </tr>\n",
              "    <tr>\n",
              "      <th>259</th>\n",
              "      <td>18.0</td>\n",
              "      <td>6</td>\n",
              "      <td>232</td>\n",
              "      <td>100</td>\n",
              "      <td>3288</td>\n",
              "      <td>16</td>\n",
              "      <td>1972</td>\n",
              "      <td>1</td>\n",
              "    </tr>\n",
              "    <tr>\n",
              "      <th>260</th>\n",
              "      <td>22.0</td>\n",
              "      <td>6</td>\n",
              "      <td>250</td>\n",
              "      <td>105</td>\n",
              "      <td>3353</td>\n",
              "      <td>15</td>\n",
              "      <td>1977</td>\n",
              "      <td>1</td>\n",
              "    </tr>\n",
              "  </tbody>\n",
              "</table>\n",
              "<p>261 rows × 8 columns</p>\n",
              "</div>"
            ],
            "text/plain": [
              "      mpg   cylinders   cubicinches  ...   time-to-60   year  category\n",
              "0    14.0           8           350  ...           12   1972         1\n",
              "1    31.9           4            89  ...           14   1980         2\n",
              "2    17.0           8           302  ...           11   1971         1\n",
              "3    15.0           8           400  ...           10   1971         1\n",
              "4    30.5           4            98  ...           17   1978         1\n",
              "..    ...         ...           ...  ...          ...    ...       ...\n",
              "256  17.0           8           305  ...           15   1980         1\n",
              "257  36.1           4            91  ...           16   1979         3\n",
              "258  22.0           6           232  ...           15   1983         1\n",
              "259  18.0           6           232  ...           16   1972         1\n",
              "260  22.0           6           250  ...           15   1977         1\n",
              "\n",
              "[261 rows x 8 columns]"
            ]
          },
          "metadata": {
            "tags": []
          }
        }
      ]
    },
    {
      "cell_type": "code",
      "metadata": {
        "id": "TEpMLWfPp4Yw"
      },
      "source": [
        "X=df.iloc[:,:-1].values\n",
        "Y=df.iloc[:,-1].values"
      ],
      "execution_count": 29,
      "outputs": []
    },
    {
      "cell_type": "code",
      "metadata": {
        "colab": {
          "base_uri": "https://localhost:8080/",
          "height": 295
        },
        "id": "AtFdTR_Qp93V",
        "outputId": "e9254b2d-e93d-4e51-adc3-de149b118e9f"
      },
      "source": [
        "from sklearn.cluster import KMeans\n",
        "wcss = []\n",
        "for i in range(1, 11):\n",
        "    kmeans = KMeans(n_clusters = i, init = 'k-means++', random_state = 42)\n",
        "    kmeans.fit(X)\n",
        "    wcss.append(kmeans.inertia_)\n",
        "plt.plot(range(1, 11), wcss)\n",
        "plt.title('The Elbow Method')\n",
        "plt.xlabel('Number of clusters')\n",
        "plt.ylabel('WCSS')\n",
        "plt.show()"
      ],
      "execution_count": 32,
      "outputs": [
        {
          "output_type": "display_data",
          "data": {
            "image/png": "[encoded data removed]",
            "text/plain": [
              "<Figure size 432x288 with 1 Axes>"
            ]
          },
          "metadata": {
            "tags": [],
            "needs_background": "light"
          }
        }
      ]
    },
    {
      "cell_type": "code",
      "metadata": {
        "id": "rZYsGFW1rLmB"
      },
      "source": [
        "from sklearn.cluster import KMeans\n",
        "kmeans=KMeans(n_clusters=3,init='k-means++',random_state=42)\n",
        "y_pred=kmeans.fit_predict(X)"
      ],
      "execution_count": 33,
      "outputs": []
    },
    {
      "cell_type": "code",
      "metadata": {
        "colab": {
          "base_uri": "https://localhost:8080/"
        },
        "id": "BdPKWqYErlNc",
        "outputId": "81de7f7d-373c-4923-b70b-9a7f9a6b8a76"
      },
      "source": [
        "y_pred"
      ],
      "execution_count": 34,
      "outputs": [
        {
          "output_type": "execute_result",
          "data": {
            "text/plain": [
              "array([0, 1, 2, 0, 1, 0, 0, 0, 2, 1, 1, 1, 0, 2, 2, 0, 1, 2, 1, 1, 1, 1,\n",
              "       2, 0, 1, 1, 1, 0, 2, 1, 1, 2, 1, 2, 1, 2, 1, 1, 0, 2, 0, 0, 2, 2,\n",
              "       2, 1, 0, 1, 1, 2, 0, 2, 2, 1, 0, 0, 2, 1, 1, 0, 2, 1, 2, 1, 0, 2,\n",
              "       1, 1, 1, 0, 2, 1, 1, 1, 1, 2, 2, 1, 1, 1, 0, 0, 2, 1, 1, 1, 2, 2,\n",
              "       1, 1, 1, 1, 0, 2, 1, 0, 0, 2, 0, 0, 0, 0, 1, 1, 1, 1, 1, 1, 1, 2,\n",
              "       1, 2, 0, 1, 1, 0, 2, 2, 1, 0, 1, 1, 0, 2, 1, 1, 0, 1, 1, 1, 1, 1,\n",
              "       0, 2, 0, 0, 1, 2, 2, 2, 1, 1, 1, 1, 2, 2, 2, 2, 2, 2, 1, 1, 0, 2,\n",
              "       1, 2, 1, 1, 1, 2, 2, 0, 2, 2, 1, 2, 2, 1, 2, 1, 1, 2, 2, 1, 1, 1,\n",
              "       0, 2, 2, 1, 2, 1, 0, 2, 1, 2, 2, 0, 0, 0, 1, 1, 0, 0, 0, 1, 1, 1,\n",
              "       1, 1, 1, 1, 2, 2, 1, 0, 1, 2, 0, 2, 2, 2, 1, 1, 2, 1, 1, 0, 1, 0,\n",
              "       2, 2, 0, 0, 0, 1, 0, 1, 1, 2, 2, 1, 1, 0, 2, 1, 0, 2, 1, 1, 0, 2,\n",
              "       0, 1, 0, 2, 0, 1, 1, 1, 1, 1, 2, 0, 2, 1, 0, 1, 2, 2, 2],\n",
              "      dtype=int32)"
            ]
          },
          "metadata": {
            "tags": []
          },
          "execution_count": 34
        }
      ]
    },
    {
      "cell_type": "code",
      "metadata": {
        "colab": {
          "base_uri": "https://localhost:8080/"
        },
        "id": "LCIT7b7Jrpbx",
        "outputId": "34280bc2-a6bc-41a7-adc8-b788c969fda3"
      },
      "source": [
        "from sklearn import metrics\n",
        "metrics.adjusted_rand_score(Y,y_pred)"
      ],
      "execution_count": 35,
      "outputs": [
        {
          "output_type": "execute_result",
          "data": {
            "text/plain": [
              "0.08962769354317637"
            ]
          },
          "metadata": {
            "tags": []
          },
          "execution_count": 35
        }
      ]
    },
    {
      "cell_type": "code",
      "metadata": {
        "colab": {
          "base_uri": "https://localhost:8080/"
        },
        "id": "Jwj9JOENrvZO",
        "outputId": "50f2f5dd-ac90-4bc2-82c0-720e7f5bd354"
      },
      "source": [
        "metrics.adjusted_mutual_info_score(Y,y_pred)"
      ],
      "execution_count": 36,
      "outputs": [
        {
          "output_type": "execute_result",
          "data": {
            "text/plain": [
              "0.20942418319757303"
            ]
          },
          "metadata": {
            "tags": []
          },
          "execution_count": 36
        }
      ]
    }
  ]
}